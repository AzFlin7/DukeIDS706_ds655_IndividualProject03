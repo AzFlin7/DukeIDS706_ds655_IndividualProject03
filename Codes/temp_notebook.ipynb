{
 "cells": [
  {
   "cell_type": "code",
   "execution_count": null,
   "metadata": {},
   "outputs": [],
   "source": [
    "from pyspark.sql import SparkSession\n",
    "from delta.tables import DeltaTable\n",
    "\n",
    "\n",
    "def load_into_delta_lake(data, path):\n",
    "    # Convert pandas dataframe to spark dataframe\n",
    "    spark = SparkSession.builder.getOrCreate()\n",
    "    spark_df = spark.createDataFrame(data)\n",
    "\n",
    "    # Write the DataFrame to a Delta Lake table\n",
    "    spark_df.write.format(\"delta\").save(path)\n",
    "\n",
    "\n",
    "# Use the function\n",
    "data = read.csv(\"../data/iris.csv\")\n",
    "load_into_delta_lake(data, \"/data/delta-table\")"
   ]
  }
 ],
 "metadata": {
  "language_info": {
   "name": "python"
  }
 },
 "nbformat": 4,
 "nbformat_minor": 2
}
